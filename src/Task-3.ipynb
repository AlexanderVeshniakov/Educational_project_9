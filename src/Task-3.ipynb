{
 "cells": [
  {
   "cell_type": "code",
   "execution_count": 14,
   "metadata": {},
   "outputs": [],
   "source": [
    "import sqlite3 as sq\n",
    "import pandas as pd"
   ]
  },
  {
   "attachments": {},
   "cell_type": "markdown",
   "metadata": {},
   "source": [
    "Создание соединения с базой данных"
   ]
  },
  {
   "cell_type": "code",
   "execution_count": 15,
   "metadata": {},
   "outputs": [],
   "source": [
    "with sq.connect('data/checking-logs.sqlite') as conn:\n",
    "    conn.cursor()"
   ]
  },
  {
   "attachments": {},
   "cell_type": "markdown",
   "metadata": {},
   "source": [
    "Создай новую таблицу datamart в базе данных."
   ]
  },
  {
   "cell_type": "code",
   "execution_count": 16,
   "metadata": {},
   "outputs": [
    {
     "data": {
      "text/html": [
       "<div>\n",
       "<style scoped>\n",
       "    .dataframe tbody tr th:only-of-type {\n",
       "        vertical-align: middle;\n",
       "    }\n",
       "\n",
       "    .dataframe tbody tr th {\n",
       "        vertical-align: top;\n",
       "    }\n",
       "\n",
       "    .dataframe thead th {\n",
       "        text-align: right;\n",
       "    }\n",
       "</style>\n",
       "<table border=\"1\" class=\"dataframe\">\n",
       "  <thead>\n",
       "    <tr style=\"text-align: right;\">\n",
       "      <th></th>\n",
       "      <th>uid</th>\n",
       "      <th>labname</th>\n",
       "      <th>first_commit_ts</th>\n",
       "      <th>first_view_ts</th>\n",
       "    </tr>\n",
       "  </thead>\n",
       "  <tbody>\n",
       "    <tr>\n",
       "      <th>0</th>\n",
       "      <td>user_4</td>\n",
       "      <td>project1</td>\n",
       "      <td>2020-04-17 05:19:02.744528</td>\n",
       "      <td>NaT</td>\n",
       "    </tr>\n",
       "    <tr>\n",
       "      <th>1</th>\n",
       "      <td>user_4</td>\n",
       "      <td>laba04</td>\n",
       "      <td>2020-04-17 11:33:17.366400</td>\n",
       "      <td>NaT</td>\n",
       "    </tr>\n",
       "    <tr>\n",
       "      <th>2</th>\n",
       "      <td>user_4</td>\n",
       "      <td>laba04s</td>\n",
       "      <td>2020-04-17 11:48:41.992466</td>\n",
       "      <td>NaT</td>\n",
       "    </tr>\n",
       "    <tr>\n",
       "      <th>3</th>\n",
       "      <td>user_17</td>\n",
       "      <td>project1</td>\n",
       "      <td>2020-04-18 07:56:45.408648</td>\n",
       "      <td>2020-04-18 10:56:55.833899</td>\n",
       "    </tr>\n",
       "    <tr>\n",
       "      <th>4</th>\n",
       "      <td>user_30</td>\n",
       "      <td>laba04</td>\n",
       "      <td>2020-04-18 13:36:53.971502</td>\n",
       "      <td>2020-04-17 22:46:26.785035</td>\n",
       "    </tr>\n",
       "    <tr>\n",
       "      <th>...</th>\n",
       "      <td>...</td>\n",
       "      <td>...</td>\n",
       "      <td>...</td>\n",
       "      <td>...</td>\n",
       "    </tr>\n",
       "    <tr>\n",
       "      <th>135</th>\n",
       "      <td>user_23</td>\n",
       "      <td>laba06</td>\n",
       "      <td>2020-05-21 08:34:10.517205</td>\n",
       "      <td>NaT</td>\n",
       "    </tr>\n",
       "    <tr>\n",
       "      <th>136</th>\n",
       "      <td>user_19</td>\n",
       "      <td>laba06s</td>\n",
       "      <td>2020-05-21 13:27:06.705881</td>\n",
       "      <td>2020-04-21 20:30:38.034966</td>\n",
       "    </tr>\n",
       "    <tr>\n",
       "      <th>137</th>\n",
       "      <td>user_23</td>\n",
       "      <td>laba06s</td>\n",
       "      <td>2020-05-21 14:29:15.709568</td>\n",
       "      <td>NaT</td>\n",
       "    </tr>\n",
       "    <tr>\n",
       "      <th>138</th>\n",
       "      <td>user_17</td>\n",
       "      <td>laba06</td>\n",
       "      <td>2020-05-21 15:21:31.567615</td>\n",
       "      <td>2020-04-18 10:56:55.833899</td>\n",
       "    </tr>\n",
       "    <tr>\n",
       "      <th>139</th>\n",
       "      <td>user_17</td>\n",
       "      <td>laba06s</td>\n",
       "      <td>2020-05-21 17:39:17.783615</td>\n",
       "      <td>2020-04-18 10:56:55.833899</td>\n",
       "    </tr>\n",
       "  </tbody>\n",
       "</table>\n",
       "<p>140 rows × 4 columns</p>\n",
       "</div>"
      ],
      "text/plain": [
       "         uid   labname            first_commit_ts              first_view_ts\n",
       "0     user_4  project1 2020-04-17 05:19:02.744528                        NaT\n",
       "1     user_4    laba04 2020-04-17 11:33:17.366400                        NaT\n",
       "2     user_4   laba04s 2020-04-17 11:48:41.992466                        NaT\n",
       "3    user_17  project1 2020-04-18 07:56:45.408648 2020-04-18 10:56:55.833899\n",
       "4    user_30    laba04 2020-04-18 13:36:53.971502 2020-04-17 22:46:26.785035\n",
       "..       ...       ...                        ...                        ...\n",
       "135  user_23    laba06 2020-05-21 08:34:10.517205                        NaT\n",
       "136  user_19   laba06s 2020-05-21 13:27:06.705881 2020-04-21 20:30:38.034966\n",
       "137  user_23   laba06s 2020-05-21 14:29:15.709568                        NaT\n",
       "138  user_17    laba06 2020-05-21 15:21:31.567615 2020-04-18 10:56:55.833899\n",
       "139  user_17   laba06s 2020-05-21 17:39:17.783615 2020-04-18 10:56:55.833899\n",
       "\n",
       "[140 rows x 4 columns]"
      ]
     },
     "execution_count": 16,
     "metadata": {},
     "output_type": "execute_result"
    }
   ],
   "source": [
    "datamart = pd.io.sql.read_sql('''SELECT c.uid, c.labname, c.timestamp as first_commit_ts,\n",
    "                                MIN(p.datetime) as first_view_ts\n",
    "                                FROM checker as c\n",
    "                                LEFT JOIN pageviews as p\n",
    "                                ON c.uid = p.uid\n",
    "                                WHERE c.status = \"ready\"\n",
    "                                      AND c.numTrials = 1\n",
    "                                      AND c.labname IN (\"laba04\", \"laba04s\", \"laba05\", \"laba06\", \"laba06s\", \"project1\")\n",
    "                                      AND c.uid LIKE \"user_%\"\n",
    "                                GROUP BY c.timestamp, c.uid''',\n",
    "                              conn,\n",
    "                              parse_dates=['first_commit_ts', 'first_view_ts'])\n",
    "\n",
    "# Сохранение результатов в таблицу datamart в базе данных\n",
    "datamart.to_sql('datamart', conn, if_exists='replace')\n",
    "datamart"
   ]
  },
  {
   "attachments": {},
   "cell_type": "markdown",
   "metadata": {},
   "source": [
    "Используя методы библиотеки Pandas, создай два датафрейма: test и control"
   ]
  },
  {
   "cell_type": "code",
   "execution_count": 17,
   "metadata": {},
   "outputs": [
    {
     "name": "stderr",
     "output_type": "stream",
     "text": [
      "C:\\Users\\1\\AppData\\Local\\Temp\\ipykernel_13872\\990322478.py:9: SettingWithCopyWarning: \n",
      "A value is trying to be set on a copy of a slice from a DataFrame.\n",
      "Try using .loc[row_indexer,col_indexer] = value instead\n",
      "\n",
      "See the caveats in the documentation: https://pandas.pydata.org/pandas-docs/stable/user_guide/indexing.html#returning-a-view-versus-a-copy\n",
      "  control['first_view_ts'] = control['first_view_ts'].fillna(mean_f)\n"
     ]
    },
    {
     "data": {
      "text/plain": [
       "81"
      ]
     },
     "execution_count": 17,
     "metadata": {},
     "output_type": "execute_result"
    }
   ],
   "source": [
    "# Создание датафрейма test, содержащего пользователей с непустыми значениями first_view_ts\n",
    "test = datamart[datamart['first_view_ts'].notnull()]\n",
    "\n",
    "# Создание датафрейма control, содержащего пользователей с пустыми значениями first_view_ts\n",
    "control = datamart[datamart['first_view_ts'].isnull()]\n",
    "\n",
    "# Замена пропущенных значений в control средним значением first_view_ts из test\n",
    "mean_f = test['first_view_ts'].mean()\n",
    "control['first_view_ts'] = control['first_view_ts'].fillna(mean_f)\n",
    "\n",
    "# Сохранение датафреймов test и control в базе данных\n",
    "test.to_sql('test', conn, if_exists='replace')\n",
    "control.to_sql('control', conn, if_exists='replace')"
   ]
  },
  {
   "attachments": {},
   "cell_type": "markdown",
   "metadata": {},
   "source": [
    "Закрытие соединения с базой данных"
   ]
  },
  {
   "cell_type": "code",
   "execution_count": 18,
   "metadata": {},
   "outputs": [],
   "source": [
    "conn.close()"
   ]
  },
  {
   "attachments": {},
   "cell_type": "markdown",
   "metadata": {},
   "source": [
    "# Чек"
   ]
  },
  {
   "cell_type": "code",
   "execution_count": 19,
   "metadata": {},
   "outputs": [],
   "source": [
    "with sq.connect('data/checking-logs.sqlite') as conn:\n",
    "    conn.cursor()"
   ]
  },
  {
   "cell_type": "code",
   "execution_count": 20,
   "metadata": {},
   "outputs": [
    {
     "name": "stdout",
     "output_type": "stream",
     "text": [
      "<class 'pandas.core.frame.DataFrame'>\n",
      "RangeIndex: 140 entries, 0 to 139\n",
      "Data columns (total 4 columns):\n",
      " #   Column           Non-Null Count  Dtype         \n",
      "---  ------           --------------  -----         \n",
      " 0   uid              140 non-null    object        \n",
      " 1   labname          140 non-null    object        \n",
      " 2   first_commit_ts  140 non-null    datetime64[ns]\n",
      " 3   first_view_ts    59 non-null     datetime64[ns]\n",
      "dtypes: datetime64[ns](2), object(2)\n",
      "memory usage: 4.5+ KB\n"
     ]
    }
   ],
   "source": [
    "datamart.info()"
   ]
  },
  {
   "cell_type": "code",
   "execution_count": 21,
   "metadata": {},
   "outputs": [
    {
     "name": "stdout",
     "output_type": "stream",
     "text": [
      "<class 'pandas.core.frame.DataFrame'>\n",
      "Index: 59 entries, 3 to 139\n",
      "Data columns (total 4 columns):\n",
      " #   Column           Non-Null Count  Dtype         \n",
      "---  ------           --------------  -----         \n",
      " 0   uid              59 non-null     object        \n",
      " 1   labname          59 non-null     object        \n",
      " 2   first_commit_ts  59 non-null     datetime64[ns]\n",
      " 3   first_view_ts    59 non-null     datetime64[ns]\n",
      "dtypes: datetime64[ns](2), object(2)\n",
      "memory usage: 2.3+ KB\n"
     ]
    }
   ],
   "source": [
    "test.info()"
   ]
  },
  {
   "cell_type": "code",
   "execution_count": 22,
   "metadata": {},
   "outputs": [
    {
     "name": "stdout",
     "output_type": "stream",
     "text": [
      "<class 'pandas.core.frame.DataFrame'>\n",
      "Index: 81 entries, 0 to 137\n",
      "Data columns (total 4 columns):\n",
      " #   Column           Non-Null Count  Dtype         \n",
      "---  ------           --------------  -----         \n",
      " 0   uid              81 non-null     object        \n",
      " 1   labname          81 non-null     object        \n",
      " 2   first_commit_ts  81 non-null     datetime64[ns]\n",
      " 3   first_view_ts    81 non-null     datetime64[ns]\n",
      "dtypes: datetime64[ns](2), object(2)\n",
      "memory usage: 3.2+ KB\n"
     ]
    }
   ],
   "source": [
    "control.info()"
   ]
  },
  {
   "cell_type": "code",
   "execution_count": 23,
   "metadata": {},
   "outputs": [],
   "source": [
    "test = pd.io.sql.read_sql('SELECT *FROM test', conn)\n"
   ]
  },
  {
   "cell_type": "code",
   "execution_count": 24,
   "metadata": {},
   "outputs": [],
   "source": [
    "control = pd.io.sql.read_sql('SELECT *FROM control', conn)"
   ]
  },
  {
   "cell_type": "code",
   "execution_count": 25,
   "metadata": {},
   "outputs": [],
   "source": [
    "conn.close()"
   ]
  }
 ],
 "metadata": {
  "kernelspec": {
   "display_name": "Python 3",
   "language": "python",
   "name": "python3"
  },
  "language_info": {
   "codemirror_mode": {
    "name": "ipython",
    "version": 3
   },
   "file_extension": ".py",
   "mimetype": "text/x-python",
   "name": "python",
   "nbconvert_exporter": "python",
   "pygments_lexer": "ipython3",
   "version": "3.10.11"
  },
  "orig_nbformat": 4
 },
 "nbformat": 4,
 "nbformat_minor": 2
}
