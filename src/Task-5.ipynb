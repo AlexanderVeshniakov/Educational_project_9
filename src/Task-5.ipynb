{
 "cells": [
  {
   "cell_type": "code",
   "execution_count": 1,
   "metadata": {},
   "outputs": [],
   "source": [
    "import sqlite3 as sq\n",
    "import pandas as pd"
   ]
  },
  {
   "attachments": {},
   "cell_type": "markdown",
   "metadata": {},
   "source": [
    "Подключение к базе"
   ]
  },
  {
   "cell_type": "code",
   "execution_count": 2,
   "metadata": {},
   "outputs": [],
   "source": [
    "with sq.connect('data/checking-logs.sqlite') as conn:\n",
    "    conn.cursor()"
   ]
  },
  {
   "attachments": {},
   "cell_type": "markdown",
   "metadata": {},
   "source": [
    "Создание датасета test_results"
   ]
  },
  {
   "attachments": {},
   "cell_type": "markdown",
   "metadata": {},
   "source": [
    "1. **SQL-запрос начинается с ключевого слова SELECT** - которое указывает на выборку данных из таблицы.\n",
    "\n",
    "2. **time, AVG(avg_diff) as avg_diff** - выбираются два столбца: time и среднее значение avg_diff. avg_diff - это среднее значение разницы между временем первого коммита (first_commit_ts) и сроком сдачи лабораторной работы (deadlines).\n",
    "\n",
    "3. Затем следует подзапрос, который выполняет следующие действия:\n",
    "\n",
    "    * **SELECT uid, labname, AVG ((strftime('%s', first_commit_ts) - deadlines) / 3600) AS avg_diff** - выбираются столбцы uid, labname и вычисляется среднее значение avg_diff. \n",
    "    * **Функция strftime('%s', first_commit_ts)** - используется для преобразования даты и времени в формат временной метки в секундах.\n",
    "    * **CASE WHEN (strftime('%s', first_commit_ts)) < (strftime('%s', first_view_ts)) THEN 'before' ELSE ' after' END AS time** - добавляется столбец time, который содержит значение \"before\", если время первого коммита (first_commit_ts) меньше времени первого просмотра (first_view_ts), и \"after\" в противном случае.\n",
    "    * **FROM test LEFT JOIN deadlines ON test.labname = deadlines.labs** - указывается таблица test и производится соединение с таблицей deadlines по условию test.labname = deadlines.labs.\n",
    "    * **WHERE labname != 'project1'** - добавляется условие, чтобы исключить лабораторную работу с именем \"project1\".\n",
    "    * **GROUP BY uid, time** - выполняется группировка данных по uid и time.\n",
    "\n",
    "4. Далее следует фильтрация данных с использованием следующего подзапроса:\n",
    "\n",
    "    * **SELECT uid FROM (SELECT uid, CASE WHEN (strftime('%s', first_commit_ts)) < (strftime('%s', first_view_ts)) THEN 'before' ELSE ' after' END AS time FROM test LEFT JOIN deadlines ON test.labname = deadlines.labs WHERE labname != 'project1' GROUP BY uid, time) GROUP BY uid HAVING COUNT(uid) == 2** \n",
    "    - выбираются uid, у которых есть две записи с time \"before\" и \"after\". Здесь также применяется подзапрос для выборки uid и time, а затем выполняется группировка по uid и фильтрация с помощью HAVING COUNT(uid) == 2, чтобы выбрать только те uid, которые имеют две записи.\n",
    "\n",
    "5. **Наконец, результаты группируются по time с помощью GROUP BY time.**"
   ]
  },
  {
   "cell_type": "code",
   "execution_count": 3,
   "metadata": {},
   "outputs": [
    {
     "data": {
      "text/html": [
       "<div>\n",
       "<style scoped>\n",
       "    .dataframe tbody tr th:only-of-type {\n",
       "        vertical-align: middle;\n",
       "    }\n",
       "\n",
       "    .dataframe tbody tr th {\n",
       "        vertical-align: top;\n",
       "    }\n",
       "\n",
       "    .dataframe thead th {\n",
       "        text-align: right;\n",
       "    }\n",
       "</style>\n",
       "<table border=\"1\" class=\"dataframe\">\n",
       "  <thead>\n",
       "    <tr style=\"text-align: right;\">\n",
       "      <th></th>\n",
       "      <th>time</th>\n",
       "      <th>avg_diff</th>\n",
       "    </tr>\n",
       "  </thead>\n",
       "  <tbody>\n",
       "    <tr>\n",
       "      <th>0</th>\n",
       "      <td>after</td>\n",
       "      <td>-99.523810</td>\n",
       "    </tr>\n",
       "    <tr>\n",
       "      <th>1</th>\n",
       "      <td>before</td>\n",
       "      <td>-66.047619</td>\n",
       "    </tr>\n",
       "  </tbody>\n",
       "</table>\n",
       "</div>"
      ],
      "text/plain": [
       "     time   avg_diff\n",
       "0   after -99.523810\n",
       "1  before -66.047619"
      ]
     },
     "execution_count": 3,
     "metadata": {},
     "output_type": "execute_result"
    }
   ],
   "source": [
    "test_results = pd.io.sql.read_sql('''\n",
    "                                SELECT time, AVG(avg_diff) as avg_diff\n",
    "                                FROM (\n",
    "                                SELECT uid, labname,\n",
    "                                AVG ((strftime('%s', first_commit_ts) - deadlines) / 3600) AS avg_diff,\n",
    "                                CASE\n",
    "                                WHEN (strftime('%s', first_commit_ts)) < (strftime('%s', first_view_ts))\n",
    "                                THEN 'before' ELSE ' after' END AS time\n",
    "                                FROM test\n",
    "                                LEFT JOIN deadlines ON test.labname = deadlines.labs\n",
    "                                WHERE labname != 'project1'\n",
    "                                GROUP BY uid, time)\n",
    "                                WHERE uid IN (\n",
    "                                SELECT uid\n",
    "                                FROM (\n",
    "                                SELECT uid,\n",
    "                                CASE\n",
    "                                WHEN (strftime('%s', first_commit_ts)) < (strftime('%s', first_view_ts))\n",
    "                                THEN 'before' ELSE ' after' END AS time\n",
    "                                FROM test\n",
    "                                LEFT JOIN deadlines ON test.labname = deadlines.labs\n",
    "                                WHERE labname != 'project1'\n",
    "                                GROUP BY uid, time)\n",
    "                                GROUP BY uid\n",
    "                                HAVING COUNT(uid) == 2)\n",
    "                                GROUP BY time\n",
    "                                ''', conn)\n",
    "test_results"
   ]
  },
  {
   "attachments": {},
   "cell_type": "markdown",
   "metadata": {},
   "source": [
    "Создание датасета control_results"
   ]
  },
  {
   "cell_type": "code",
   "execution_count": 4,
   "metadata": {},
   "outputs": [
    {
     "data": {
      "text/html": [
       "<div>\n",
       "<style scoped>\n",
       "    .dataframe tbody tr th:only-of-type {\n",
       "        vertical-align: middle;\n",
       "    }\n",
       "\n",
       "    .dataframe tbody tr th {\n",
       "        vertical-align: top;\n",
       "    }\n",
       "\n",
       "    .dataframe thead th {\n",
       "        text-align: right;\n",
       "    }\n",
       "</style>\n",
       "<table border=\"1\" class=\"dataframe\">\n",
       "  <thead>\n",
       "    <tr style=\"text-align: right;\">\n",
       "      <th></th>\n",
       "      <th>time</th>\n",
       "      <th>avg_diff</th>\n",
       "    </tr>\n",
       "  </thead>\n",
       "  <tbody>\n",
       "    <tr>\n",
       "      <th>0</th>\n",
       "      <td>after</td>\n",
       "      <td>-99.322222</td>\n",
       "    </tr>\n",
       "    <tr>\n",
       "      <th>1</th>\n",
       "      <td>before</td>\n",
       "      <td>-98.033333</td>\n",
       "    </tr>\n",
       "  </tbody>\n",
       "</table>\n",
       "</div>"
      ],
      "text/plain": [
       "     time   avg_diff\n",
       "0   after -99.322222\n",
       "1  before -98.033333"
      ]
     },
     "execution_count": 4,
     "metadata": {},
     "output_type": "execute_result"
    }
   ],
   "source": [
    "control_results = pd.io.sql.read_sql('''\n",
    "                                SELECT time, AVG(avg_diff) as avg_diff\n",
    "                                FROM (\n",
    "                                SELECT uid, labname,\n",
    "                                AVG ((strftime('%s', first_commit_ts) - deadlines) / 3600) AS avg_diff,\n",
    "                                CASE\n",
    "                                WHEN (strftime('%s', first_commit_ts)) < (strftime('%s', first_view_ts))\n",
    "                                THEN 'before' ELSE ' after' END AS time\n",
    "                                FROM control\n",
    "                                LEFT JOIN deadlines ON control.labname = deadlines.labs\n",
    "                                WHERE labname != 'project1'\n",
    "                                GROUP BY uid, time)\n",
    "                                WHERE uid IN (\n",
    "                                SELECT uid\n",
    "                                FROM (\n",
    "                                SELECT uid,\n",
    "                                CASE\n",
    "                                WHEN (strftime('%s', first_commit_ts)) < (strftime('%s', first_view_ts))\n",
    "                                THEN 'before' ELSE ' after' END AS time\n",
    "                                FROM control\n",
    "                                LEFT JOIN deadlines ON control.labname = deadlines.labs\n",
    "                                WHERE labname != 'project1'\n",
    "                                GROUP BY uid, time)\n",
    "                                GROUP BY uid\n",
    "                                HAVING COUNT(uid) == 2)\n",
    "                                GROUP BY time\n",
    "                                ''', conn)\n",
    "control_results"
   ]
  },
  {
   "attachments": {},
   "cell_type": "markdown",
   "metadata": {},
   "source": [
    "Закрытие соединения"
   ]
  },
  {
   "cell_type": "code",
   "execution_count": 5,
   "metadata": {},
   "outputs": [],
   "source": [
    "conn.close()"
   ]
  }
 ],
 "metadata": {
  "kernelspec": {
   "display_name": "Python 3",
   "language": "python",
   "name": "python3"
  },
  "language_info": {
   "codemirror_mode": {
    "name": "ipython",
    "version": 3
   },
   "file_extension": ".py",
   "mimetype": "text/x-python",
   "name": "python",
   "nbconvert_exporter": "python",
   "pygments_lexer": "ipython3",
   "version": "3.10.11"
  },
  "orig_nbformat": 4
 },
 "nbformat": 4,
 "nbformat_minor": 2
}
